{
 "cells": [
  {
   "cell_type": "code",
   "execution_count": 1,
   "id": "b9e47075",
   "metadata": {},
   "outputs": [],
   "source": [
    "#introduction to list dattype;"
   ]
  },
  {
   "cell_type": "code",
   "execution_count": 7,
   "id": "5bec3c47",
   "metadata": {},
   "outputs": [],
   "source": [
    "Students=['madhavi','aruna','rohini','nagamani','dhana','jyothi']"
   ]
  },
  {
   "cell_type": "code",
   "execution_count": 8,
   "id": "19a83445",
   "metadata": {},
   "outputs": [
    {
     "name": "stdout",
     "output_type": "stream",
     "text": [
      "['madhavi', 'aruna', 'rohini', 'nagamani', 'dhana', 'jyothi']\n"
     ]
    }
   ],
   "source": [
    "print(Students)"
   ]
  },
  {
   "cell_type": "code",
   "execution_count": 9,
   "id": "281fff3c",
   "metadata": {},
   "outputs": [
    {
     "data": {
      "text/plain": [
       "list"
      ]
     },
     "execution_count": 9,
     "metadata": {},
     "output_type": "execute_result"
    }
   ],
   "source": [
    "type(Students)"
   ]
  },
  {
   "cell_type": "code",
   "execution_count": 10,
   "id": "3808c7eb",
   "metadata": {},
   "outputs": [
    {
     "name": "stdout",
     "output_type": "stream",
     "text": [
      "rohini\n"
     ]
    }
   ],
   "source": [
    "print(Students[2])#index number"
   ]
  },
  {
   "cell_type": "code",
   "execution_count": 11,
   "id": "c9520d5f",
   "metadata": {},
   "outputs": [
    {
     "name": "stdout",
     "output_type": "stream",
     "text": [
      "['aruna', 'rohini', 'nagamani']\n"
     ]
    }
   ],
   "source": [
    "print(Students[1:4])# here we use slicing operator"
   ]
  },
  {
   "cell_type": "code",
   "execution_count": 12,
   "id": "50aaddd7",
   "metadata": {},
   "outputs": [],
   "source": [
    "#add new name to the list"
   ]
  },
  {
   "cell_type": "code",
   "execution_count": 13,
   "id": "d0b3c621",
   "metadata": {},
   "outputs": [],
   "source": [
    "Students.append(\"Ramya\")#we use append method means add an element at the end of the list "
   ]
  },
  {
   "cell_type": "code",
   "execution_count": 14,
   "id": "4c5fedc9",
   "metadata": {},
   "outputs": [
    {
     "name": "stdout",
     "output_type": "stream",
     "text": [
      "['madhavi', 'aruna', 'rohini', 'nagamani', 'dhana', 'jyothi', 'Ramya']\n"
     ]
    }
   ],
   "source": [
    "print(Students)"
   ]
  },
  {
   "cell_type": "code",
   "execution_count": 15,
   "id": "f6f07cce",
   "metadata": {},
   "outputs": [],
   "source": [
    "Students.append('susi')"
   ]
  },
  {
   "cell_type": "code",
   "execution_count": 16,
   "id": "451ab5d4",
   "metadata": {},
   "outputs": [
    {
     "name": "stdout",
     "output_type": "stream",
     "text": [
      "['madhavi', 'aruna', 'rohini', 'nagamani', 'dhana', 'jyothi', 'Ramya', 'susi']\n"
     ]
    }
   ],
   "source": [
    "print(Students)"
   ]
  },
  {
   "cell_type": "code",
   "execution_count": 17,
   "id": "0026ffca",
   "metadata": {},
   "outputs": [],
   "source": [
    "#i want to add suma in the 4th position"
   ]
  },
  {
   "cell_type": "code",
   "execution_count": 22,
   "id": "8a4f600c",
   "metadata": {},
   "outputs": [],
   "source": [
    "Students.insert(4,'suma')\n",
    "                #insert method used for we can add an element anywhere "
   ]
  },
  {
   "cell_type": "code",
   "execution_count": 23,
   "id": "d7f298e0",
   "metadata": {},
   "outputs": [
    {
     "name": "stdout",
     "output_type": "stream",
     "text": [
      "['madhavi', 'aruna', 'rohini', 'nagamani', 'suma', 'suma', 'dhana', 'jyothi', 'Ramya', 'susi']\n"
     ]
    }
   ],
   "source": [
    "print(Students)"
   ]
  },
  {
   "cell_type": "code",
   "execution_count": 24,
   "id": "a7d270a1",
   "metadata": {},
   "outputs": [
    {
     "name": "stdout",
     "output_type": "stream",
     "text": [
      "suma\n"
     ]
    }
   ],
   "source": [
    "print(Students[4])"
   ]
  },
  {
   "cell_type": "markdown",
   "id": "b73aa13b",
   "metadata": {},
   "source": [
    "#modify an element into the list"
   ]
  },
  {
   "cell_type": "code",
   "execution_count": 25,
   "id": "f764a959",
   "metadata": {},
   "outputs": [],
   "source": [
    "Students[2]=\"Rohan\""
   ]
  },
  {
   "cell_type": "code",
   "execution_count": 26,
   "id": "0f40a0b9",
   "metadata": {},
   "outputs": [
    {
     "name": "stdout",
     "output_type": "stream",
     "text": [
      "['madhavi', 'aruna', 'Rohan', 'nagamani', 'suma', 'suma', 'dhana', 'jyothi', 'Ramya', 'susi']\n"
     ]
    }
   ],
   "source": [
    "print(Students)"
   ]
  },
  {
   "cell_type": "code",
   "execution_count": 27,
   "id": "723df8d3",
   "metadata": {},
   "outputs": [],
   "source": [
    "#delete an element"
   ]
  },
  {
   "cell_type": "code",
   "execution_count": 28,
   "id": "5f30b8b0",
   "metadata": {},
   "outputs": [],
   "source": [
    "del Students[6]"
   ]
  },
  {
   "cell_type": "code",
   "execution_count": 29,
   "id": "8fed0335",
   "metadata": {},
   "outputs": [
    {
     "name": "stdout",
     "output_type": "stream",
     "text": [
      "['madhavi', 'aruna', 'Rohan', 'nagamani', 'suma', 'suma', 'jyothi', 'Ramya', 'susi']\n"
     ]
    }
   ],
   "source": [
    "print(Students)"
   ]
  },
  {
   "cell_type": "code",
   "execution_count": null,
   "id": "6d2f7aa5",
   "metadata": {},
   "outputs": [],
   "source": []
  }
 ],
 "metadata": {
  "kernelspec": {
   "display_name": "Python 3",
   "language": "python",
   "name": "python3"
  },
  "language_info": {
   "codemirror_mode": {
    "name": "ipython",
    "version": 3
   },
   "file_extension": ".py",
   "mimetype": "text/x-python",
   "name": "python",
   "nbconvert_exporter": "python",
   "pygments_lexer": "ipython3",
   "version": "3.8.8"
  }
 },
 "nbformat": 4,
 "nbformat_minor": 5
}
